{
  "cells": [
    {
      "cell_type": "markdown",
      "metadata": {
        "id": "g_NnrXDU0Duv"
      },
      "source": [
        "## 폐암환자 생존여부 머신러닝(SVM)으로 예측하기  - 4주차 온라인 4강 소스코드 참조"
      ]
    },
    {
      "cell_type": "markdown",
      "metadata": {
        "id": "SJynsOfO0Duy"
      },
      "source": [
        "### 1. 사용 패키지와 모듈 임포트"
      ]
    },
    {
      "cell_type": "code",
      "execution_count": null,
      "metadata": {
        "id": "wroH6rpa0Duz"
      },
      "outputs": [],
      "source": [
        "import pandas as pd\n",
        "from sklearn.model_selection import train_test_split #학습데이터와 테스트데이터 분할\n",
        "from sklearn import svm   #SVM 모델\n",
        "from sklearn import metrics  #정확도 asfnlslggl/ajg;jg;tjgjwjogwg\n"
      ]
    },
    {
      "cell_type": "code",
      "execution_count": null,
      "metadata": {
        "colab": {
          "base_uri": "https://localhost:8080/"
        },
        "id": "WrNykc-FIpZ6",
        "outputId": "23161d32-f7db-4457-aa67-c83419ed3f45"
      },
      "outputs": [
        {
          "name": "stdout",
          "output_type": "stream",
          "text": [
            "Drive already mounted at /content/drive; to attempt to forcibly remount, call drive.mount(\"/content/drive\", force_remount=True).\n"
          ]
        }
      ],
      "source": [
        "from google.colab import drive\n",
        "drive.mount('/content/drive')"
      ]
    },
    {
      "cell_type": "markdown",
      "metadata": {
        "id": "dOaae6GG0Du0"
      },
      "source": [
        "### 2. 데이터 가져오기"
      ]
    },
    {
      "cell_type": "code",
      "execution_count": null,
      "metadata": {
        "colab": {
          "base_uri": "https://localhost:8080/",
          "height": 206
        },
        "id": "bME85WyT0Du0",
        "outputId": "6b6b67ce-e05b-4a93-a607-82384a64374a"
      },
      "outputs": [
        {
          "data": {
            "text/html": [
              "\n",
              "  <div id=\"df-4132c227-2adb-4351-98d9-e1dc5833fd4e\">\n",
              "    <div class=\"colab-df-container\">\n",
              "      <div>\n",
              "<style scoped>\n",
              "    .dataframe tbody tr th:only-of-type {\n",
              "        vertical-align: middle;\n",
              "    }\n",
              "\n",
              "    .dataframe tbody tr th {\n",
              "        vertical-align: top;\n",
              "    }\n",
              "\n",
              "    .dataframe thead th {\n",
              "        text-align: right;\n",
              "    }\n",
              "</style>\n",
              "<table border=\"1\" class=\"dataframe\">\n",
              "  <thead>\n",
              "    <tr style=\"text-align: right;\">\n",
              "      <th></th>\n",
              "      <th>A1</th>\n",
              "      <th>A2</th>\n",
              "      <th>A3</th>\n",
              "      <th>A4</th>\n",
              "      <th>A5</th>\n",
              "      <th>A6</th>\n",
              "      <th>A7</th>\n",
              "      <th>A8</th>\n",
              "      <th>A9</th>\n",
              "      <th>A10</th>\n",
              "      <th>A11</th>\n",
              "      <th>A12</th>\n",
              "      <th>A13</th>\n",
              "      <th>A14</th>\n",
              "      <th>A15</th>\n",
              "      <th>A16</th>\n",
              "      <th>A17</th>\n",
              "      <th>Class</th>\n",
              "    </tr>\n",
              "  </thead>\n",
              "  <tbody>\n",
              "    <tr>\n",
              "      <th>0</th>\n",
              "      <td>293</td>\n",
              "      <td>1</td>\n",
              "      <td>3.80</td>\n",
              "      <td>2.80</td>\n",
              "      <td>0</td>\n",
              "      <td>0</td>\n",
              "      <td>0</td>\n",
              "      <td>0</td>\n",
              "      <td>0</td>\n",
              "      <td>0</td>\n",
              "      <td>12</td>\n",
              "      <td>0</td>\n",
              "      <td>0</td>\n",
              "      <td>0</td>\n",
              "      <td>1</td>\n",
              "      <td>0</td>\n",
              "      <td>62</td>\n",
              "      <td>0</td>\n",
              "    </tr>\n",
              "    <tr>\n",
              "      <th>1</th>\n",
              "      <td>1</td>\n",
              "      <td>2</td>\n",
              "      <td>2.88</td>\n",
              "      <td>2.16</td>\n",
              "      <td>1</td>\n",
              "      <td>0</td>\n",
              "      <td>0</td>\n",
              "      <td>0</td>\n",
              "      <td>1</td>\n",
              "      <td>1</td>\n",
              "      <td>14</td>\n",
              "      <td>0</td>\n",
              "      <td>0</td>\n",
              "      <td>0</td>\n",
              "      <td>1</td>\n",
              "      <td>0</td>\n",
              "      <td>60</td>\n",
              "      <td>0</td>\n",
              "    </tr>\n",
              "    <tr>\n",
              "      <th>2</th>\n",
              "      <td>8</td>\n",
              "      <td>2</td>\n",
              "      <td>3.19</td>\n",
              "      <td>2.50</td>\n",
              "      <td>1</td>\n",
              "      <td>0</td>\n",
              "      <td>0</td>\n",
              "      <td>0</td>\n",
              "      <td>1</td>\n",
              "      <td>0</td>\n",
              "      <td>11</td>\n",
              "      <td>0</td>\n",
              "      <td>0</td>\n",
              "      <td>1</td>\n",
              "      <td>1</td>\n",
              "      <td>0</td>\n",
              "      <td>66</td>\n",
              "      <td>1</td>\n",
              "    </tr>\n",
              "    <tr>\n",
              "      <th>3</th>\n",
              "      <td>14</td>\n",
              "      <td>2</td>\n",
              "      <td>3.98</td>\n",
              "      <td>3.06</td>\n",
              "      <td>2</td>\n",
              "      <td>0</td>\n",
              "      <td>0</td>\n",
              "      <td>0</td>\n",
              "      <td>1</td>\n",
              "      <td>1</td>\n",
              "      <td>14</td>\n",
              "      <td>0</td>\n",
              "      <td>0</td>\n",
              "      <td>0</td>\n",
              "      <td>1</td>\n",
              "      <td>0</td>\n",
              "      <td>80</td>\n",
              "      <td>1</td>\n",
              "    </tr>\n",
              "    <tr>\n",
              "      <th>4</th>\n",
              "      <td>17</td>\n",
              "      <td>2</td>\n",
              "      <td>2.21</td>\n",
              "      <td>1.88</td>\n",
              "      <td>0</td>\n",
              "      <td>0</td>\n",
              "      <td>1</td>\n",
              "      <td>0</td>\n",
              "      <td>0</td>\n",
              "      <td>0</td>\n",
              "      <td>12</td>\n",
              "      <td>0</td>\n",
              "      <td>0</td>\n",
              "      <td>0</td>\n",
              "      <td>1</td>\n",
              "      <td>0</td>\n",
              "      <td>56</td>\n",
              "      <td>0</td>\n",
              "    </tr>\n",
              "  </tbody>\n",
              "</table>\n",
              "</div>\n",
              "      <button class=\"colab-df-convert\" onclick=\"convertToInteractive('df-4132c227-2adb-4351-98d9-e1dc5833fd4e')\"\n",
              "              title=\"Convert this dataframe to an interactive table.\"\n",
              "              style=\"display:none;\">\n",
              "        \n",
              "  <svg xmlns=\"http://www.w3.org/2000/svg\" height=\"24px\"viewBox=\"0 0 24 24\"\n",
              "       width=\"24px\">\n",
              "    <path d=\"M0 0h24v24H0V0z\" fill=\"none\"/>\n",
              "    <path d=\"M18.56 5.44l.94 2.06.94-2.06 2.06-.94-2.06-.94-.94-2.06-.94 2.06-2.06.94zm-11 1L8.5 8.5l.94-2.06 2.06-.94-2.06-.94L8.5 2.5l-.94 2.06-2.06.94zm10 10l.94 2.06.94-2.06 2.06-.94-2.06-.94-.94-2.06-.94 2.06-2.06.94z\"/><path d=\"M17.41 7.96l-1.37-1.37c-.4-.4-.92-.59-1.43-.59-.52 0-1.04.2-1.43.59L10.3 9.45l-7.72 7.72c-.78.78-.78 2.05 0 2.83L4 21.41c.39.39.9.59 1.41.59.51 0 1.02-.2 1.41-.59l7.78-7.78 2.81-2.81c.8-.78.8-2.07 0-2.86zM5.41 20L4 18.59l7.72-7.72 1.47 1.35L5.41 20z\"/>\n",
              "  </svg>\n",
              "      </button>\n",
              "      \n",
              "  <style>\n",
              "    .colab-df-container {\n",
              "      display:flex;\n",
              "      flex-wrap:wrap;\n",
              "      gap: 12px;\n",
              "    }\n",
              "\n",
              "    .colab-df-convert {\n",
              "      background-color: #E8F0FE;\n",
              "      border: none;\n",
              "      border-radius: 50%;\n",
              "      cursor: pointer;\n",
              "      display: none;\n",
              "      fill: #1967D2;\n",
              "      height: 32px;\n",
              "      padding: 0 0 0 0;\n",
              "      width: 32px;\n",
              "    }\n",
              "\n",
              "    .colab-df-convert:hover {\n",
              "      background-color: #E2EBFA;\n",
              "      box-shadow: 0px 1px 2px rgba(60, 64, 67, 0.3), 0px 1px 3px 1px rgba(60, 64, 67, 0.15);\n",
              "      fill: #174EA6;\n",
              "    }\n",
              "\n",
              "    [theme=dark] .colab-df-convert {\n",
              "      background-color: #3B4455;\n",
              "      fill: #D2E3FC;\n",
              "    }\n",
              "\n",
              "    [theme=dark] .colab-df-convert:hover {\n",
              "      background-color: #434B5C;\n",
              "      box-shadow: 0px 1px 3px 1px rgba(0, 0, 0, 0.15);\n",
              "      filter: drop-shadow(0px 1px 2px rgba(0, 0, 0, 0.3));\n",
              "      fill: #FFFFFF;\n",
              "    }\n",
              "  </style>\n",
              "\n",
              "      <script>\n",
              "        const buttonEl =\n",
              "          document.querySelector('#df-4132c227-2adb-4351-98d9-e1dc5833fd4e button.colab-df-convert');\n",
              "        buttonEl.style.display =\n",
              "          google.colab.kernel.accessAllowed ? 'block' : 'none';\n",
              "\n",
              "        async function convertToInteractive(key) {\n",
              "          const element = document.querySelector('#df-4132c227-2adb-4351-98d9-e1dc5833fd4e');\n",
              "          const dataTable =\n",
              "            await google.colab.kernel.invokeFunction('convertToInteractive',\n",
              "                                                     [key], {});\n",
              "          if (!dataTable) return;\n",
              "\n",
              "          const docLinkHtml = 'Like what you see? Visit the ' +\n",
              "            '<a target=\"_blank\" href=https://colab.research.google.com/notebooks/data_table.ipynb>data table notebook</a>'\n",
              "            + ' to learn more about interactive tables.';\n",
              "          element.innerHTML = '';\n",
              "          dataTable['output_type'] = 'display_data';\n",
              "          await google.colab.output.renderOutput(dataTable, element);\n",
              "          const docLink = document.createElement('div');\n",
              "          docLink.innerHTML = docLinkHtml;\n",
              "          element.appendChild(docLink);\n",
              "        }\n",
              "      </script>\n",
              "    </div>\n",
              "  </div>\n",
              "  "
            ],
            "text/plain": [
              "    A1  A2    A3    A4  A5  A6  A7  A8  A9  A10  A11  A12  A13  A14  A15  A16  \\\n",
              "0  293   1  3.80  2.80   0   0   0   0   0    0   12    0    0    0    1    0   \n",
              "1    1   2  2.88  2.16   1   0   0   0   1    1   14    0    0    0    1    0   \n",
              "2    8   2  3.19  2.50   1   0   0   0   1    0   11    0    0    1    1    0   \n",
              "3   14   2  3.98  3.06   2   0   0   0   1    1   14    0    0    0    1    0   \n",
              "4   17   2  2.21  1.88   0   0   1   0   0    0   12    0    0    0    1    0   \n",
              "\n",
              "   A17  Class  \n",
              "0   62      0  \n",
              "1   60      0  \n",
              "2   66      1  \n",
              "3   80      1  \n",
              "4   56      0  "
            ]
          },
          "execution_count": 3,
          "metadata": {},
          "output_type": "execute_result"
        }
      ],
      "source": [
        "df = pd.read_csv('/content/drive/MyDrive/Colab Notebooks/AI_4주차_5강_6강_실습파일_오프라인/thoracic_surgery.csv')\n",
        "#일부 데이터만 가져오기\n",
        "#data_df = df[0:행개수] \n",
        "data_df = df\n",
        "data_df.head()"
      ]
    },
    {
      "cell_type": "code",
      "execution_count": null,
      "metadata": {
        "id": "Sn_Uf-u50Du0"
      },
      "outputs": [],
      "source": [
        "#각 행은 환자 한명 한명의 기록\n",
        "#A1~A17 : 종양유형, 폐활량, 호흡곤란여부, 고통정도, 기침, 흡연, 천식여부 등의 수술 전 환자 상태\n",
        "#         1은 해당사항 있음, 0은 해당 사항없음\n",
        "#Class : 수술 후 생존 결과 (생존은 1, 사망은 0)"
      ]
    },
    {
      "cell_type": "code",
      "execution_count": null,
      "metadata": {
        "colab": {
          "base_uri": "https://localhost:8080/"
        },
        "id": "rSv9xeAK0Du1",
        "outputId": "e390800f-ea43-4f59-b7aa-b98962a57dc3"
      },
      "outputs": [
        {
          "data": {
            "text/plain": [
              "(470, 18)"
            ]
          },
          "execution_count": 5,
          "metadata": {},
          "output_type": "execute_result"
        }
      ],
      "source": [
        "#데이터의 행,열 개수 확인\n",
        "data_df.shape  "
      ]
    },
    {
      "cell_type": "markdown",
      "metadata": {
        "id": "VmewPKLU0Du1"
      },
      "source": [
        "### 3. 데이터셋 나누기"
      ]
    },
    {
      "cell_type": "code",
      "execution_count": null,
      "metadata": {
        "id": "CRe_PHUB0Du1"
      },
      "outputs": [],
      "source": [
        "train, test = train_test_split(data_df, test_size= 0.2) \n"
      ]
    },
    {
      "cell_type": "code",
      "execution_count": null,
      "metadata": {
        "colab": {
          "base_uri": "https://localhost:8080/"
        },
        "id": "w1aHgQuV0Du2",
        "outputId": "4f4b0c7d-7d33-489c-9159-27209012c423"
      },
      "outputs": [
        {
          "name": "stdout",
          "output_type": "stream",
          "text": [
            "train data (376, 18)\n",
            "test data (94, 18)\n"
          ]
        }
      ],
      "source": [
        "print(\"train data\",train.shape)\n",
        "print(\"test data\",test.shape)"
      ]
    },
    {
      "cell_type": "markdown",
      "metadata": {
        "id": "53NRtR6a0Du2"
      },
      "source": [
        "### 4. 학습에 사용할 변수(특징, Feature) 선택하기"
      ]
    },
    {
      "cell_type": "code",
      "execution_count": null,
      "metadata": {
        "colab": {
          "base_uri": "https://localhost:8080/"
        },
        "id": "wlC_GiJR0Du2",
        "outputId": "2c2f7503-fb5e-48d5-e1d3-4caf3054a94b"
      },
      "outputs": [
        {
          "name": "stdout",
          "output_type": "stream",
          "text": [
            "<class 'pandas.core.frame.DataFrame'>\n",
            "RangeIndex: 470 entries, 0 to 469\n",
            "Data columns (total 18 columns):\n",
            " #   Column  Non-Null Count  Dtype  \n",
            "---  ------  --------------  -----  \n",
            " 0   A1      470 non-null    int64  \n",
            " 1   A2      470 non-null    int64  \n",
            " 2   A3      470 non-null    float64\n",
            " 3   A4      470 non-null    float64\n",
            " 4   A5      470 non-null    int64  \n",
            " 5   A6      470 non-null    int64  \n",
            " 6   A7      470 non-null    int64  \n",
            " 7   A8      470 non-null    int64  \n",
            " 8   A9      470 non-null    int64  \n",
            " 9   A10     470 non-null    int64  \n",
            " 10  A11     470 non-null    int64  \n",
            " 11  A12     470 non-null    int64  \n",
            " 12  A13     470 non-null    int64  \n",
            " 13  A14     470 non-null    int64  \n",
            " 14  A15     470 non-null    int64  \n",
            " 15  A16     470 non-null    int64  \n",
            " 16  A17     470 non-null    int64  \n",
            " 17  Class   470 non-null    int64  \n",
            "dtypes: float64(2), int64(16)\n",
            "memory usage: 66.2 KB\n"
          ]
        }
      ],
      "source": [
        "data_df.info()    #데이터 타입, 각 아이템 개수, 누락데이터(NaN(Not a Number or Not Available) 등 확인"
      ]
    },
    {
      "cell_type": "code",
      "execution_count": null,
      "metadata": {
        "colab": {
          "base_uri": "https://localhost:8080/",
          "height": 678
        },
        "id": "wlQjfvLK0Du3",
        "outputId": "35354b37-bb44-4fcf-9062-2c037669fcb4"
      },
      "outputs": [
        {
          "data": {
            "text/html": [
              "\n",
              "  <div id=\"df-52d22c6e-48b8-417d-8b49-e471fab6220c\">\n",
              "    <div class=\"colab-df-container\">\n",
              "      <div>\n",
              "<style scoped>\n",
              "    .dataframe tbody tr th:only-of-type {\n",
              "        vertical-align: middle;\n",
              "    }\n",
              "\n",
              "    .dataframe tbody tr th {\n",
              "        vertical-align: top;\n",
              "    }\n",
              "\n",
              "    .dataframe thead th {\n",
              "        text-align: right;\n",
              "    }\n",
              "</style>\n",
              "<table border=\"1\" class=\"dataframe\">\n",
              "  <thead>\n",
              "    <tr style=\"text-align: right;\">\n",
              "      <th></th>\n",
              "      <th>A1</th>\n",
              "      <th>A2</th>\n",
              "      <th>A3</th>\n",
              "      <th>A4</th>\n",
              "      <th>A5</th>\n",
              "      <th>A6</th>\n",
              "      <th>A7</th>\n",
              "      <th>A8</th>\n",
              "      <th>A9</th>\n",
              "      <th>A10</th>\n",
              "      <th>A11</th>\n",
              "      <th>A12</th>\n",
              "      <th>A13</th>\n",
              "      <th>A14</th>\n",
              "      <th>A15</th>\n",
              "      <th>A16</th>\n",
              "      <th>A17</th>\n",
              "      <th>Class</th>\n",
              "    </tr>\n",
              "  </thead>\n",
              "  <tbody>\n",
              "    <tr>\n",
              "      <th>A1</th>\n",
              "      <td>1.000000</td>\n",
              "      <td>-0.007878</td>\n",
              "      <td>-0.034985</td>\n",
              "      <td>0.029563</td>\n",
              "      <td>-0.021449</td>\n",
              "      <td>0.052724</td>\n",
              "      <td>0.027238</td>\n",
              "      <td>-0.061885</td>\n",
              "      <td>0.008845</td>\n",
              "      <td>0.027271</td>\n",
              "      <td>0.047079</td>\n",
              "      <td>-0.009229</td>\n",
              "      <td>-0.016382</td>\n",
              "      <td>-0.015761</td>\n",
              "      <td>-0.038681</td>\n",
              "      <td>-0.042400</td>\n",
              "      <td>-0.005826</td>\n",
              "      <td>-0.074924</td>\n",
              "    </tr>\n",
              "    <tr>\n",
              "      <th>A2</th>\n",
              "      <td>-0.007878</td>\n",
              "      <td>1.000000</td>\n",
              "      <td>0.121263</td>\n",
              "      <td>0.058780</td>\n",
              "      <td>-0.055900</td>\n",
              "      <td>0.047900</td>\n",
              "      <td>-0.062958</td>\n",
              "      <td>-0.047142</td>\n",
              "      <td>-0.075850</td>\n",
              "      <td>-0.019562</td>\n",
              "      <td>-0.135050</td>\n",
              "      <td>0.029753</td>\n",
              "      <td>-0.008675</td>\n",
              "      <td>-0.017461</td>\n",
              "      <td>-0.107427</td>\n",
              "      <td>-0.008675</td>\n",
              "      <td>0.076271</td>\n",
              "      <td>0.060444</td>\n",
              "    </tr>\n",
              "    <tr>\n",
              "      <th>A3</th>\n",
              "      <td>-0.034985</td>\n",
              "      <td>0.121263</td>\n",
              "      <td>1.000000</td>\n",
              "      <td>0.032975</td>\n",
              "      <td>-0.091094</td>\n",
              "      <td>0.019786</td>\n",
              "      <td>-0.095827</td>\n",
              "      <td>0.055829</td>\n",
              "      <td>-0.052770</td>\n",
              "      <td>-0.100242</td>\n",
              "      <td>0.034088</td>\n",
              "      <td>-0.115145</td>\n",
              "      <td>-0.009135</td>\n",
              "      <td>-0.035584</td>\n",
              "      <td>-0.012009</td>\n",
              "      <td>-0.060578</td>\n",
              "      <td>-0.290178</td>\n",
              "      <td>-0.046374</td>\n",
              "    </tr>\n",
              "    <tr>\n",
              "      <th>A4</th>\n",
              "      <td>0.029563</td>\n",
              "      <td>0.058780</td>\n",
              "      <td>0.032975</td>\n",
              "      <td>1.000000</td>\n",
              "      <td>-0.143155</td>\n",
              "      <td>0.161615</td>\n",
              "      <td>0.102979</td>\n",
              "      <td>0.260073</td>\n",
              "      <td>-0.099914</td>\n",
              "      <td>-0.086103</td>\n",
              "      <td>0.015504</td>\n",
              "      <td>-0.022251</td>\n",
              "      <td>-0.013617</td>\n",
              "      <td>-0.025088</td>\n",
              "      <td>-0.100853</td>\n",
              "      <td>-0.016509</td>\n",
              "      <td>-0.115900</td>\n",
              "      <td>-0.042841</td>\n",
              "    </tr>\n",
              "    <tr>\n",
              "      <th>A5</th>\n",
              "      <td>-0.021449</td>\n",
              "      <td>-0.055900</td>\n",
              "      <td>-0.091094</td>\n",
              "      <td>-0.143155</td>\n",
              "      <td>1.000000</td>\n",
              "      <td>0.092863</td>\n",
              "      <td>0.123296</td>\n",
              "      <td>0.092863</td>\n",
              "      <td>0.684647</td>\n",
              "      <td>0.418042</td>\n",
              "      <td>0.089751</td>\n",
              "      <td>0.025310</td>\n",
              "      <td>0.026788</td>\n",
              "      <td>0.023166</td>\n",
              "      <td>0.172289</td>\n",
              "      <td>-0.034330</td>\n",
              "      <td>0.214528</td>\n",
              "      <td>0.093200</td>\n",
              "    </tr>\n",
              "    <tr>\n",
              "      <th>A6</th>\n",
              "      <td>0.052724</td>\n",
              "      <td>0.047900</td>\n",
              "      <td>0.019786</td>\n",
              "      <td>0.161615</td>\n",
              "      <td>0.092863</td>\n",
              "      <td>1.000000</td>\n",
              "      <td>0.256225</td>\n",
              "      <td>0.067529</td>\n",
              "      <td>-0.024115</td>\n",
              "      <td>-0.072455</td>\n",
              "      <td>0.099942</td>\n",
              "      <td>0.022578</td>\n",
              "      <td>-0.017372</td>\n",
              "      <td>-0.034968</td>\n",
              "      <td>-0.077406</td>\n",
              "      <td>-0.017372</td>\n",
              "      <td>0.044789</td>\n",
              "      <td>0.057375</td>\n",
              "    </tr>\n",
              "    <tr>\n",
              "      <th>A7</th>\n",
              "      <td>0.027238</td>\n",
              "      <td>-0.062958</td>\n",
              "      <td>-0.095827</td>\n",
              "      <td>0.102979</td>\n",
              "      <td>0.123296</td>\n",
              "      <td>0.256225</td>\n",
              "      <td>1.000000</td>\n",
              "      <td>0.134386</td>\n",
              "      <td>0.081772</td>\n",
              "      <td>0.060393</td>\n",
              "      <td>0.059840</td>\n",
              "      <td>-0.001471</td>\n",
              "      <td>-0.026886</td>\n",
              "      <td>0.086156</td>\n",
              "      <td>-0.044942</td>\n",
              "      <td>-0.026886</td>\n",
              "      <td>0.086705</td>\n",
              "      <td>0.065785</td>\n",
              "    </tr>\n",
              "    <tr>\n",
              "      <th>A8</th>\n",
              "      <td>-0.061885</td>\n",
              "      <td>-0.047142</td>\n",
              "      <td>0.055829</td>\n",
              "      <td>0.260073</td>\n",
              "      <td>0.092863</td>\n",
              "      <td>0.067529</td>\n",
              "      <td>0.134386</td>\n",
              "      <td>1.000000</td>\n",
              "      <td>0.049843</td>\n",
              "      <td>-0.072455</td>\n",
              "      <td>0.075502</td>\n",
              "      <td>-0.042725</td>\n",
              "      <td>-0.017372</td>\n",
              "      <td>0.097572</td>\n",
              "      <td>-0.077406</td>\n",
              "      <td>-0.017372</td>\n",
              "      <td>-0.015331</td>\n",
              "      <td>0.105530</td>\n",
              "    </tr>\n",
              "    <tr>\n",
              "      <th>A9</th>\n",
              "      <td>0.008845</td>\n",
              "      <td>-0.075850</td>\n",
              "      <td>-0.052770</td>\n",
              "      <td>-0.099914</td>\n",
              "      <td>0.684647</td>\n",
              "      <td>-0.024115</td>\n",
              "      <td>0.081772</td>\n",
              "      <td>0.049843</td>\n",
              "      <td>1.000000</td>\n",
              "      <td>0.202245</td>\n",
              "      <td>0.145345</td>\n",
              "      <td>0.016551</td>\n",
              "      <td>0.044101</td>\n",
              "      <td>0.017815</td>\n",
              "      <td>0.200373</td>\n",
              "      <td>-0.026401</td>\n",
              "      <td>0.149589</td>\n",
              "      <td>0.088860</td>\n",
              "    </tr>\n",
              "    <tr>\n",
              "      <th>A10</th>\n",
              "      <td>0.027271</td>\n",
              "      <td>-0.019562</td>\n",
              "      <td>-0.100242</td>\n",
              "      <td>-0.086103</td>\n",
              "      <td>0.418042</td>\n",
              "      <td>-0.072455</td>\n",
              "      <td>0.060393</td>\n",
              "      <td>-0.072455</td>\n",
              "      <td>0.202245</td>\n",
              "      <td>1.000000</td>\n",
              "      <td>-0.036044</td>\n",
              "      <td>0.069522</td>\n",
              "      <td>0.058695</td>\n",
              "      <td>0.029726</td>\n",
              "      <td>0.118527</td>\n",
              "      <td>-0.029161</td>\n",
              "      <td>0.208003</td>\n",
              "      <td>0.086467</td>\n",
              "    </tr>\n",
              "    <tr>\n",
              "      <th>A11</th>\n",
              "      <td>0.047079</td>\n",
              "      <td>-0.135050</td>\n",
              "      <td>0.034088</td>\n",
              "      <td>0.015504</td>\n",
              "      <td>0.089751</td>\n",
              "      <td>0.099942</td>\n",
              "      <td>0.059840</td>\n",
              "      <td>0.075502</td>\n",
              "      <td>0.145345</td>\n",
              "      <td>-0.036044</td>\n",
              "      <td>1.000000</td>\n",
              "      <td>0.037363</td>\n",
              "      <td>-0.022009</td>\n",
              "      <td>-0.020854</td>\n",
              "      <td>0.038303</td>\n",
              "      <td>-0.022009</td>\n",
              "      <td>0.016118</td>\n",
              "      <td>0.174371</td>\n",
              "    </tr>\n",
              "    <tr>\n",
              "      <th>A12</th>\n",
              "      <td>-0.009229</td>\n",
              "      <td>0.029753</td>\n",
              "      <td>-0.115145</td>\n",
              "      <td>-0.022251</td>\n",
              "      <td>0.025310</td>\n",
              "      <td>0.022578</td>\n",
              "      <td>-0.001471</td>\n",
              "      <td>-0.042725</td>\n",
              "      <td>0.016551</td>\n",
              "      <td>0.069522</td>\n",
              "      <td>0.037363</td>\n",
              "      <td>1.000000</td>\n",
              "      <td>-0.018543</td>\n",
              "      <td>0.025328</td>\n",
              "      <td>-0.036906</td>\n",
              "      <td>-0.018543</td>\n",
              "      <td>0.085081</td>\n",
              "      <td>0.108974</td>\n",
              "    </tr>\n",
              "    <tr>\n",
              "      <th>A13</th>\n",
              "      <td>-0.016382</td>\n",
              "      <td>-0.008675</td>\n",
              "      <td>-0.009135</td>\n",
              "      <td>-0.013617</td>\n",
              "      <td>0.026788</td>\n",
              "      <td>-0.017372</td>\n",
              "      <td>-0.026886</td>\n",
              "      <td>-0.017372</td>\n",
              "      <td>0.044101</td>\n",
              "      <td>0.058695</td>\n",
              "      <td>-0.022009</td>\n",
              "      <td>-0.018543</td>\n",
              "      <td>1.000000</td>\n",
              "      <td>-0.008602</td>\n",
              "      <td>0.030496</td>\n",
              "      <td>-0.004274</td>\n",
              "      <td>-0.030320</td>\n",
              "      <td>-0.027347</td>\n",
              "    </tr>\n",
              "    <tr>\n",
              "      <th>A14</th>\n",
              "      <td>-0.015761</td>\n",
              "      <td>-0.017461</td>\n",
              "      <td>-0.035584</td>\n",
              "      <td>-0.025088</td>\n",
              "      <td>0.023166</td>\n",
              "      <td>-0.034968</td>\n",
              "      <td>0.086156</td>\n",
              "      <td>0.097572</td>\n",
              "      <td>0.017815</td>\n",
              "      <td>0.029726</td>\n",
              "      <td>-0.020854</td>\n",
              "      <td>0.025328</td>\n",
              "      <td>-0.008602</td>\n",
              "      <td>1.000000</td>\n",
              "      <td>0.061386</td>\n",
              "      <td>-0.008602</td>\n",
              "      <td>0.058112</td>\n",
              "      <td>0.037354</td>\n",
              "    </tr>\n",
              "    <tr>\n",
              "      <th>A15</th>\n",
              "      <td>-0.038681</td>\n",
              "      <td>-0.107427</td>\n",
              "      <td>-0.012009</td>\n",
              "      <td>-0.100853</td>\n",
              "      <td>0.172289</td>\n",
              "      <td>-0.077406</td>\n",
              "      <td>-0.044942</td>\n",
              "      <td>-0.077406</td>\n",
              "      <td>0.200373</td>\n",
              "      <td>0.118527</td>\n",
              "      <td>0.038303</td>\n",
              "      <td>-0.036906</td>\n",
              "      <td>0.030496</td>\n",
              "      <td>0.061386</td>\n",
              "      <td>1.000000</td>\n",
              "      <td>-0.054820</td>\n",
              "      <td>0.068869</td>\n",
              "      <td>0.085958</td>\n",
              "    </tr>\n",
              "    <tr>\n",
              "      <th>A16</th>\n",
              "      <td>-0.042400</td>\n",
              "      <td>-0.008675</td>\n",
              "      <td>-0.060578</td>\n",
              "      <td>-0.016509</td>\n",
              "      <td>-0.034330</td>\n",
              "      <td>-0.017372</td>\n",
              "      <td>-0.026886</td>\n",
              "      <td>-0.017372</td>\n",
              "      <td>-0.026401</td>\n",
              "      <td>-0.029161</td>\n",
              "      <td>-0.022009</td>\n",
              "      <td>-0.018543</td>\n",
              "      <td>-0.004274</td>\n",
              "      <td>-0.008602</td>\n",
              "      <td>-0.054820</td>\n",
              "      <td>1.000000</td>\n",
              "      <td>-0.019046</td>\n",
              "      <td>-0.027347</td>\n",
              "    </tr>\n",
              "    <tr>\n",
              "      <th>A17</th>\n",
              "      <td>-0.005826</td>\n",
              "      <td>0.076271</td>\n",
              "      <td>-0.290178</td>\n",
              "      <td>-0.115900</td>\n",
              "      <td>0.214528</td>\n",
              "      <td>0.044789</td>\n",
              "      <td>0.086705</td>\n",
              "      <td>-0.015331</td>\n",
              "      <td>0.149589</td>\n",
              "      <td>0.208003</td>\n",
              "      <td>0.016118</td>\n",
              "      <td>0.085081</td>\n",
              "      <td>-0.030320</td>\n",
              "      <td>0.058112</td>\n",
              "      <td>0.068869</td>\n",
              "      <td>-0.019046</td>\n",
              "      <td>1.000000</td>\n",
              "      <td>0.038902</td>\n",
              "    </tr>\n",
              "    <tr>\n",
              "      <th>Class</th>\n",
              "      <td>-0.074924</td>\n",
              "      <td>0.060444</td>\n",
              "      <td>-0.046374</td>\n",
              "      <td>-0.042841</td>\n",
              "      <td>0.093200</td>\n",
              "      <td>0.057375</td>\n",
              "      <td>0.065785</td>\n",
              "      <td>0.105530</td>\n",
              "      <td>0.088860</td>\n",
              "      <td>0.086467</td>\n",
              "      <td>0.174371</td>\n",
              "      <td>0.108974</td>\n",
              "      <td>-0.027347</td>\n",
              "      <td>0.037354</td>\n",
              "      <td>0.085958</td>\n",
              "      <td>-0.027347</td>\n",
              "      <td>0.038902</td>\n",
              "      <td>1.000000</td>\n",
              "    </tr>\n",
              "  </tbody>\n",
              "</table>\n",
              "</div>\n",
              "      <button class=\"colab-df-convert\" onclick=\"convertToInteractive('df-52d22c6e-48b8-417d-8b49-e471fab6220c')\"\n",
              "              title=\"Convert this dataframe to an interactive table.\"\n",
              "              style=\"display:none;\">\n",
              "        \n",
              "  <svg xmlns=\"http://www.w3.org/2000/svg\" height=\"24px\"viewBox=\"0 0 24 24\"\n",
              "       width=\"24px\">\n",
              "    <path d=\"M0 0h24v24H0V0z\" fill=\"none\"/>\n",
              "    <path d=\"M18.56 5.44l.94 2.06.94-2.06 2.06-.94-2.06-.94-.94-2.06-.94 2.06-2.06.94zm-11 1L8.5 8.5l.94-2.06 2.06-.94-2.06-.94L8.5 2.5l-.94 2.06-2.06.94zm10 10l.94 2.06.94-2.06 2.06-.94-2.06-.94-.94-2.06-.94 2.06-2.06.94z\"/><path d=\"M17.41 7.96l-1.37-1.37c-.4-.4-.92-.59-1.43-.59-.52 0-1.04.2-1.43.59L10.3 9.45l-7.72 7.72c-.78.78-.78 2.05 0 2.83L4 21.41c.39.39.9.59 1.41.59.51 0 1.02-.2 1.41-.59l7.78-7.78 2.81-2.81c.8-.78.8-2.07 0-2.86zM5.41 20L4 18.59l7.72-7.72 1.47 1.35L5.41 20z\"/>\n",
              "  </svg>\n",
              "      </button>\n",
              "      \n",
              "  <style>\n",
              "    .colab-df-container {\n",
              "      display:flex;\n",
              "      flex-wrap:wrap;\n",
              "      gap: 12px;\n",
              "    }\n",
              "\n",
              "    .colab-df-convert {\n",
              "      background-color: #E8F0FE;\n",
              "      border: none;\n",
              "      border-radius: 50%;\n",
              "      cursor: pointer;\n",
              "      display: none;\n",
              "      fill: #1967D2;\n",
              "      height: 32px;\n",
              "      padding: 0 0 0 0;\n",
              "      width: 32px;\n",
              "    }\n",
              "\n",
              "    .colab-df-convert:hover {\n",
              "      background-color: #E2EBFA;\n",
              "      box-shadow: 0px 1px 2px rgba(60, 64, 67, 0.3), 0px 1px 3px 1px rgba(60, 64, 67, 0.15);\n",
              "      fill: #174EA6;\n",
              "    }\n",
              "\n",
              "    [theme=dark] .colab-df-convert {\n",
              "      background-color: #3B4455;\n",
              "      fill: #D2E3FC;\n",
              "    }\n",
              "\n",
              "    [theme=dark] .colab-df-convert:hover {\n",
              "      background-color: #434B5C;\n",
              "      box-shadow: 0px 1px 3px 1px rgba(0, 0, 0, 0.15);\n",
              "      filter: drop-shadow(0px 1px 2px rgba(0, 0, 0, 0.3));\n",
              "      fill: #FFFFFF;\n",
              "    }\n",
              "  </style>\n",
              "\n",
              "      <script>\n",
              "        const buttonEl =\n",
              "          document.querySelector('#df-52d22c6e-48b8-417d-8b49-e471fab6220c button.colab-df-convert');\n",
              "        buttonEl.style.display =\n",
              "          google.colab.kernel.accessAllowed ? 'block' : 'none';\n",
              "\n",
              "        async function convertToInteractive(key) {\n",
              "          const element = document.querySelector('#df-52d22c6e-48b8-417d-8b49-e471fab6220c');\n",
              "          const dataTable =\n",
              "            await google.colab.kernel.invokeFunction('convertToInteractive',\n",
              "                                                     [key], {});\n",
              "          if (!dataTable) return;\n",
              "\n",
              "          const docLinkHtml = 'Like what you see? Visit the ' +\n",
              "            '<a target=\"_blank\" href=https://colab.research.google.com/notebooks/data_table.ipynb>data table notebook</a>'\n",
              "            + ' to learn more about interactive tables.';\n",
              "          element.innerHTML = '';\n",
              "          dataTable['output_type'] = 'display_data';\n",
              "          await google.colab.output.renderOutput(dataTable, element);\n",
              "          const docLink = document.createElement('div');\n",
              "          docLink.innerHTML = docLinkHtml;\n",
              "          element.appendChild(docLink);\n",
              "        }\n",
              "      </script>\n",
              "    </div>\n",
              "  </div>\n",
              "  "
            ],
            "text/plain": [
              "             A1        A2        A3        A4        A5        A6        A7  \\\n",
              "A1     1.000000 -0.007878 -0.034985  0.029563 -0.021449  0.052724  0.027238   \n",
              "A2    -0.007878  1.000000  0.121263  0.058780 -0.055900  0.047900 -0.062958   \n",
              "A3    -0.034985  0.121263  1.000000  0.032975 -0.091094  0.019786 -0.095827   \n",
              "A4     0.029563  0.058780  0.032975  1.000000 -0.143155  0.161615  0.102979   \n",
              "A5    -0.021449 -0.055900 -0.091094 -0.143155  1.000000  0.092863  0.123296   \n",
              "A6     0.052724  0.047900  0.019786  0.161615  0.092863  1.000000  0.256225   \n",
              "A7     0.027238 -0.062958 -0.095827  0.102979  0.123296  0.256225  1.000000   \n",
              "A8    -0.061885 -0.047142  0.055829  0.260073  0.092863  0.067529  0.134386   \n",
              "A9     0.008845 -0.075850 -0.052770 -0.099914  0.684647 -0.024115  0.081772   \n",
              "A10    0.027271 -0.019562 -0.100242 -0.086103  0.418042 -0.072455  0.060393   \n",
              "A11    0.047079 -0.135050  0.034088  0.015504  0.089751  0.099942  0.059840   \n",
              "A12   -0.009229  0.029753 -0.115145 -0.022251  0.025310  0.022578 -0.001471   \n",
              "A13   -0.016382 -0.008675 -0.009135 -0.013617  0.026788 -0.017372 -0.026886   \n",
              "A14   -0.015761 -0.017461 -0.035584 -0.025088  0.023166 -0.034968  0.086156   \n",
              "A15   -0.038681 -0.107427 -0.012009 -0.100853  0.172289 -0.077406 -0.044942   \n",
              "A16   -0.042400 -0.008675 -0.060578 -0.016509 -0.034330 -0.017372 -0.026886   \n",
              "A17   -0.005826  0.076271 -0.290178 -0.115900  0.214528  0.044789  0.086705   \n",
              "Class -0.074924  0.060444 -0.046374 -0.042841  0.093200  0.057375  0.065785   \n",
              "\n",
              "             A8        A9       A10       A11       A12       A13       A14  \\\n",
              "A1    -0.061885  0.008845  0.027271  0.047079 -0.009229 -0.016382 -0.015761   \n",
              "A2    -0.047142 -0.075850 -0.019562 -0.135050  0.029753 -0.008675 -0.017461   \n",
              "A3     0.055829 -0.052770 -0.100242  0.034088 -0.115145 -0.009135 -0.035584   \n",
              "A4     0.260073 -0.099914 -0.086103  0.015504 -0.022251 -0.013617 -0.025088   \n",
              "A5     0.092863  0.684647  0.418042  0.089751  0.025310  0.026788  0.023166   \n",
              "A6     0.067529 -0.024115 -0.072455  0.099942  0.022578 -0.017372 -0.034968   \n",
              "A7     0.134386  0.081772  0.060393  0.059840 -0.001471 -0.026886  0.086156   \n",
              "A8     1.000000  0.049843 -0.072455  0.075502 -0.042725 -0.017372  0.097572   \n",
              "A9     0.049843  1.000000  0.202245  0.145345  0.016551  0.044101  0.017815   \n",
              "A10   -0.072455  0.202245  1.000000 -0.036044  0.069522  0.058695  0.029726   \n",
              "A11    0.075502  0.145345 -0.036044  1.000000  0.037363 -0.022009 -0.020854   \n",
              "A12   -0.042725  0.016551  0.069522  0.037363  1.000000 -0.018543  0.025328   \n",
              "A13   -0.017372  0.044101  0.058695 -0.022009 -0.018543  1.000000 -0.008602   \n",
              "A14    0.097572  0.017815  0.029726 -0.020854  0.025328 -0.008602  1.000000   \n",
              "A15   -0.077406  0.200373  0.118527  0.038303 -0.036906  0.030496  0.061386   \n",
              "A16   -0.017372 -0.026401 -0.029161 -0.022009 -0.018543 -0.004274 -0.008602   \n",
              "A17   -0.015331  0.149589  0.208003  0.016118  0.085081 -0.030320  0.058112   \n",
              "Class  0.105530  0.088860  0.086467  0.174371  0.108974 -0.027347  0.037354   \n",
              "\n",
              "            A15       A16       A17     Class  \n",
              "A1    -0.038681 -0.042400 -0.005826 -0.074924  \n",
              "A2    -0.107427 -0.008675  0.076271  0.060444  \n",
              "A3    -0.012009 -0.060578 -0.290178 -0.046374  \n",
              "A4    -0.100853 -0.016509 -0.115900 -0.042841  \n",
              "A5     0.172289 -0.034330  0.214528  0.093200  \n",
              "A6    -0.077406 -0.017372  0.044789  0.057375  \n",
              "A7    -0.044942 -0.026886  0.086705  0.065785  \n",
              "A8    -0.077406 -0.017372 -0.015331  0.105530  \n",
              "A9     0.200373 -0.026401  0.149589  0.088860  \n",
              "A10    0.118527 -0.029161  0.208003  0.086467  \n",
              "A11    0.038303 -0.022009  0.016118  0.174371  \n",
              "A12   -0.036906 -0.018543  0.085081  0.108974  \n",
              "A13    0.030496 -0.004274 -0.030320 -0.027347  \n",
              "A14    0.061386 -0.008602  0.058112  0.037354  \n",
              "A15    1.000000 -0.054820  0.068869  0.085958  \n",
              "A16   -0.054820  1.000000 -0.019046 -0.027347  \n",
              "A17    0.068869 -0.019046  1.000000  0.038902  \n",
              "Class  0.085958 -0.027347  0.038902  1.000000  "
            ]
          },
          "execution_count": 9,
          "metadata": {},
          "output_type": "execute_result"
        }
      ],
      "source": [
        "data_df.corr()   # 상관계수 보기"
      ]
    },
    {
      "cell_type": "markdown",
      "metadata": {
        "id": "Ool357W80Du3"
      },
      "source": [
        "### 5. 학습용 데이터셋 : 학습데이터와 레이블(정답) 나누기"
      ]
    },
    {
      "cell_type": "code",
      "execution_count": null,
      "metadata": {
        "colab": {
          "base_uri": "https://localhost:8080/",
          "height": 424
        },
        "id": "_FDyfxH60Du3",
        "outputId": "e3885594-e25f-4d87-94a1-75ae1517aaa5",
        "scrolled": true
      },
      "outputs": [
        {
          "data": {
            "text/html": [
              "\n",
              "  <div id=\"df-55857582-c304-4871-8d22-ffa3067261ef\">\n",
              "    <div class=\"colab-df-container\">\n",
              "      <div>\n",
              "<style scoped>\n",
              "    .dataframe tbody tr th:only-of-type {\n",
              "        vertical-align: middle;\n",
              "    }\n",
              "\n",
              "    .dataframe tbody tr th {\n",
              "        vertical-align: top;\n",
              "    }\n",
              "\n",
              "    .dataframe thead th {\n",
              "        text-align: right;\n",
              "    }\n",
              "</style>\n",
              "<table border=\"1\" class=\"dataframe\">\n",
              "  <thead>\n",
              "    <tr style=\"text-align: right;\">\n",
              "      <th></th>\n",
              "      <th>A8</th>\n",
              "      <th>A1</th>\n",
              "      <th>A2</th>\n",
              "      <th>A3</th>\n",
              "      <th>A4</th>\n",
              "      <th>A5</th>\n",
              "      <th>A6</th>\n",
              "      <th>A7</th>\n",
              "      <th>A9</th>\n",
              "      <th>A10</th>\n",
              "      <th>A11</th>\n",
              "      <th>A12</th>\n",
              "      <th>A15</th>\n",
              "    </tr>\n",
              "  </thead>\n",
              "  <tbody>\n",
              "    <tr>\n",
              "      <th>5</th>\n",
              "      <td>0</td>\n",
              "      <td>18</td>\n",
              "      <td>2</td>\n",
              "      <td>2.96</td>\n",
              "      <td>1.67</td>\n",
              "      <td>0</td>\n",
              "      <td>0</td>\n",
              "      <td>0</td>\n",
              "      <td>0</td>\n",
              "      <td>0</td>\n",
              "      <td>12</td>\n",
              "      <td>0</td>\n",
              "      <td>1</td>\n",
              "    </tr>\n",
              "    <tr>\n",
              "      <th>207</th>\n",
              "      <td>0</td>\n",
              "      <td>208</td>\n",
              "      <td>3</td>\n",
              "      <td>2.60</td>\n",
              "      <td>1.92</td>\n",
              "      <td>1</td>\n",
              "      <td>0</td>\n",
              "      <td>0</td>\n",
              "      <td>1</td>\n",
              "      <td>0</td>\n",
              "      <td>11</td>\n",
              "      <td>0</td>\n",
              "      <td>1</td>\n",
              "    </tr>\n",
              "    <tr>\n",
              "      <th>209</th>\n",
              "      <td>0</td>\n",
              "      <td>211</td>\n",
              "      <td>3</td>\n",
              "      <td>4.72</td>\n",
              "      <td>4.56</td>\n",
              "      <td>0</td>\n",
              "      <td>0</td>\n",
              "      <td>0</td>\n",
              "      <td>0</td>\n",
              "      <td>0</td>\n",
              "      <td>11</td>\n",
              "      <td>0</td>\n",
              "      <td>1</td>\n",
              "    </tr>\n",
              "    <tr>\n",
              "      <th>468</th>\n",
              "      <td>0</td>\n",
              "      <td>25</td>\n",
              "      <td>8</td>\n",
              "      <td>4.32</td>\n",
              "      <td>3.20</td>\n",
              "      <td>0</td>\n",
              "      <td>0</td>\n",
              "      <td>0</td>\n",
              "      <td>0</td>\n",
              "      <td>0</td>\n",
              "      <td>11</td>\n",
              "      <td>0</td>\n",
              "      <td>0</td>\n",
              "    </tr>\n",
              "    <tr>\n",
              "      <th>289</th>\n",
              "      <td>0</td>\n",
              "      <td>310</td>\n",
              "      <td>3</td>\n",
              "      <td>1.98</td>\n",
              "      <td>1.57</td>\n",
              "      <td>1</td>\n",
              "      <td>0</td>\n",
              "      <td>0</td>\n",
              "      <td>0</td>\n",
              "      <td>1</td>\n",
              "      <td>11</td>\n",
              "      <td>0</td>\n",
              "      <td>1</td>\n",
              "    </tr>\n",
              "    <tr>\n",
              "      <th>...</th>\n",
              "      <td>...</td>\n",
              "      <td>...</td>\n",
              "      <td>...</td>\n",
              "      <td>...</td>\n",
              "      <td>...</td>\n",
              "      <td>...</td>\n",
              "      <td>...</td>\n",
              "      <td>...</td>\n",
              "      <td>...</td>\n",
              "      <td>...</td>\n",
              "      <td>...</td>\n",
              "      <td>...</td>\n",
              "      <td>...</td>\n",
              "    </tr>\n",
              "    <tr>\n",
              "      <th>453</th>\n",
              "      <td>0</td>\n",
              "      <td>89</td>\n",
              "      <td>5</td>\n",
              "      <td>2.68</td>\n",
              "      <td>1.76</td>\n",
              "      <td>2</td>\n",
              "      <td>0</td>\n",
              "      <td>1</td>\n",
              "      <td>1</td>\n",
              "      <td>1</td>\n",
              "      <td>11</td>\n",
              "      <td>0</td>\n",
              "      <td>1</td>\n",
              "    </tr>\n",
              "    <tr>\n",
              "      <th>325</th>\n",
              "      <td>0</td>\n",
              "      <td>363</td>\n",
              "      <td>3</td>\n",
              "      <td>3.08</td>\n",
              "      <td>1.72</td>\n",
              "      <td>1</td>\n",
              "      <td>0</td>\n",
              "      <td>0</td>\n",
              "      <td>1</td>\n",
              "      <td>1</td>\n",
              "      <td>12</td>\n",
              "      <td>1</td>\n",
              "      <td>1</td>\n",
              "    </tr>\n",
              "    <tr>\n",
              "      <th>445</th>\n",
              "      <td>0</td>\n",
              "      <td>452</td>\n",
              "      <td>4</td>\n",
              "      <td>3.04</td>\n",
              "      <td>2.36</td>\n",
              "      <td>1</td>\n",
              "      <td>0</td>\n",
              "      <td>0</td>\n",
              "      <td>1</td>\n",
              "      <td>0</td>\n",
              "      <td>12</td>\n",
              "      <td>0</td>\n",
              "      <td>1</td>\n",
              "    </tr>\n",
              "    <tr>\n",
              "      <th>143</th>\n",
              "      <td>0</td>\n",
              "      <td>122</td>\n",
              "      <td>3</td>\n",
              "      <td>3.56</td>\n",
              "      <td>2.76</td>\n",
              "      <td>1</td>\n",
              "      <td>0</td>\n",
              "      <td>0</td>\n",
              "      <td>1</td>\n",
              "      <td>0</td>\n",
              "      <td>12</td>\n",
              "      <td>0</td>\n",
              "      <td>1</td>\n",
              "    </tr>\n",
              "    <tr>\n",
              "      <th>213</th>\n",
              "      <td>0</td>\n",
              "      <td>215</td>\n",
              "      <td>3</td>\n",
              "      <td>2.96</td>\n",
              "      <td>2.32</td>\n",
              "      <td>0</td>\n",
              "      <td>0</td>\n",
              "      <td>0</td>\n",
              "      <td>0</td>\n",
              "      <td>0</td>\n",
              "      <td>11</td>\n",
              "      <td>0</td>\n",
              "      <td>1</td>\n",
              "    </tr>\n",
              "  </tbody>\n",
              "</table>\n",
              "<p>376 rows × 13 columns</p>\n",
              "</div>\n",
              "      <button class=\"colab-df-convert\" onclick=\"convertToInteractive('df-55857582-c304-4871-8d22-ffa3067261ef')\"\n",
              "              title=\"Convert this dataframe to an interactive table.\"\n",
              "              style=\"display:none;\">\n",
              "        \n",
              "  <svg xmlns=\"http://www.w3.org/2000/svg\" height=\"24px\"viewBox=\"0 0 24 24\"\n",
              "       width=\"24px\">\n",
              "    <path d=\"M0 0h24v24H0V0z\" fill=\"none\"/>\n",
              "    <path d=\"M18.56 5.44l.94 2.06.94-2.06 2.06-.94-2.06-.94-.94-2.06-.94 2.06-2.06.94zm-11 1L8.5 8.5l.94-2.06 2.06-.94-2.06-.94L8.5 2.5l-.94 2.06-2.06.94zm10 10l.94 2.06.94-2.06 2.06-.94-2.06-.94-.94-2.06-.94 2.06-2.06.94z\"/><path d=\"M17.41 7.96l-1.37-1.37c-.4-.4-.92-.59-1.43-.59-.52 0-1.04.2-1.43.59L10.3 9.45l-7.72 7.72c-.78.78-.78 2.05 0 2.83L4 21.41c.39.39.9.59 1.41.59.51 0 1.02-.2 1.41-.59l7.78-7.78 2.81-2.81c.8-.78.8-2.07 0-2.86zM5.41 20L4 18.59l7.72-7.72 1.47 1.35L5.41 20z\"/>\n",
              "  </svg>\n",
              "      </button>\n",
              "      \n",
              "  <style>\n",
              "    .colab-df-container {\n",
              "      display:flex;\n",
              "      flex-wrap:wrap;\n",
              "      gap: 12px;\n",
              "    }\n",
              "\n",
              "    .colab-df-convert {\n",
              "      background-color: #E8F0FE;\n",
              "      border: none;\n",
              "      border-radius: 50%;\n",
              "      cursor: pointer;\n",
              "      display: none;\n",
              "      fill: #1967D2;\n",
              "      height: 32px;\n",
              "      padding: 0 0 0 0;\n",
              "      width: 32px;\n",
              "    }\n",
              "\n",
              "    .colab-df-convert:hover {\n",
              "      background-color: #E2EBFA;\n",
              "      box-shadow: 0px 1px 2px rgba(60, 64, 67, 0.3), 0px 1px 3px 1px rgba(60, 64, 67, 0.15);\n",
              "      fill: #174EA6;\n",
              "    }\n",
              "\n",
              "    [theme=dark] .colab-df-convert {\n",
              "      background-color: #3B4455;\n",
              "      fill: #D2E3FC;\n",
              "    }\n",
              "\n",
              "    [theme=dark] .colab-df-convert:hover {\n",
              "      background-color: #434B5C;\n",
              "      box-shadow: 0px 1px 3px 1px rgba(0, 0, 0, 0.15);\n",
              "      filter: drop-shadow(0px 1px 2px rgba(0, 0, 0, 0.3));\n",
              "      fill: #FFFFFF;\n",
              "    }\n",
              "  </style>\n",
              "\n",
              "      <script>\n",
              "        const buttonEl =\n",
              "          document.querySelector('#df-55857582-c304-4871-8d22-ffa3067261ef button.colab-df-convert');\n",
              "        buttonEl.style.display =\n",
              "          google.colab.kernel.accessAllowed ? 'block' : 'none';\n",
              "\n",
              "        async function convertToInteractive(key) {\n",
              "          const element = document.querySelector('#df-55857582-c304-4871-8d22-ffa3067261ef');\n",
              "          const dataTable =\n",
              "            await google.colab.kernel.invokeFunction('convertToInteractive',\n",
              "                                                     [key], {});\n",
              "          if (!dataTable) return;\n",
              "\n",
              "          const docLinkHtml = 'Like what you see? Visit the ' +\n",
              "            '<a target=\"_blank\" href=https://colab.research.google.com/notebooks/data_table.ipynb>data table notebook</a>'\n",
              "            + ' to learn more about interactive tables.';\n",
              "          element.innerHTML = '';\n",
              "          dataTable['output_type'] = 'display_data';\n",
              "          await google.colab.output.renderOutput(dataTable, element);\n",
              "          const docLink = document.createElement('div');\n",
              "          docLink.innerHTML = docLinkHtml;\n",
              "          element.appendChild(docLink);\n",
              "        }\n",
              "      </script>\n",
              "    </div>\n",
              "  </div>\n",
              "  "
            ],
            "text/plain": [
              "     A8   A1  A2    A3    A4  A5  A6  A7  A9  A10  A11  A12  A15\n",
              "5     0   18   2  2.96  1.67   0   0   0   0    0   12    0    1\n",
              "207   0  208   3  2.60  1.92   1   0   0   1    0   11    0    1\n",
              "209   0  211   3  4.72  4.56   0   0   0   0    0   11    0    1\n",
              "468   0   25   8  4.32  3.20   0   0   0   0    0   11    0    0\n",
              "289   0  310   3  1.98  1.57   1   0   0   0    1   11    0    1\n",
              "..   ..  ...  ..   ...   ...  ..  ..  ..  ..  ...  ...  ...  ...\n",
              "453   0   89   5  2.68  1.76   2   0   1   1    1   11    0    1\n",
              "325   0  363   3  3.08  1.72   1   0   0   1    1   12    1    1\n",
              "445   0  452   4  3.04  2.36   1   0   0   1    0   12    0    1\n",
              "143   0  122   3  3.56  2.76   1   0   0   1    0   12    0    1\n",
              "213   0  215   3  2.96  2.32   0   0   0   0    0   11    0    1\n",
              "\n",
              "[376 rows x 13 columns]"
            ]
          },
          "execution_count": 10,
          "metadata": {},
          "output_type": "execute_result"
        }
      ],
      "source": [
        "train_data_df = train[['A8','A1','A2','A3','A4','A5','A6','A7','A9','A10','A11','A12','A15']]\n",
        "train_data_df "
      ]
    },
    {
      "cell_type": "code",
      "execution_count": null,
      "metadata": {
        "colab": {
          "base_uri": "https://localhost:8080/",
          "height": 424
        },
        "id": "eEXuWN880Du3",
        "outputId": "d83fe62e-e8fe-48b5-bdca-215ded5802b1"
      },
      "outputs": [
        {
          "data": {
            "text/html": [
              "\n",
              "  <div id=\"df-e958f4ac-96ed-447b-bbb4-df153d0e88ff\">\n",
              "    <div class=\"colab-df-container\">\n",
              "      <div>\n",
              "<style scoped>\n",
              "    .dataframe tbody tr th:only-of-type {\n",
              "        vertical-align: middle;\n",
              "    }\n",
              "\n",
              "    .dataframe tbody tr th {\n",
              "        vertical-align: top;\n",
              "    }\n",
              "\n",
              "    .dataframe thead th {\n",
              "        text-align: right;\n",
              "    }\n",
              "</style>\n",
              "<table border=\"1\" class=\"dataframe\">\n",
              "  <thead>\n",
              "    <tr style=\"text-align: right;\">\n",
              "      <th></th>\n",
              "      <th>Class</th>\n",
              "    </tr>\n",
              "  </thead>\n",
              "  <tbody>\n",
              "    <tr>\n",
              "      <th>5</th>\n",
              "      <td>0</td>\n",
              "    </tr>\n",
              "    <tr>\n",
              "      <th>207</th>\n",
              "      <td>0</td>\n",
              "    </tr>\n",
              "    <tr>\n",
              "      <th>209</th>\n",
              "      <td>0</td>\n",
              "    </tr>\n",
              "    <tr>\n",
              "      <th>468</th>\n",
              "      <td>1</td>\n",
              "    </tr>\n",
              "    <tr>\n",
              "      <th>289</th>\n",
              "      <td>0</td>\n",
              "    </tr>\n",
              "    <tr>\n",
              "      <th>...</th>\n",
              "      <td>...</td>\n",
              "    </tr>\n",
              "    <tr>\n",
              "      <th>453</th>\n",
              "      <td>0</td>\n",
              "    </tr>\n",
              "    <tr>\n",
              "      <th>325</th>\n",
              "      <td>1</td>\n",
              "    </tr>\n",
              "    <tr>\n",
              "      <th>445</th>\n",
              "      <td>0</td>\n",
              "    </tr>\n",
              "    <tr>\n",
              "      <th>143</th>\n",
              "      <td>0</td>\n",
              "    </tr>\n",
              "    <tr>\n",
              "      <th>213</th>\n",
              "      <td>0</td>\n",
              "    </tr>\n",
              "  </tbody>\n",
              "</table>\n",
              "<p>376 rows × 1 columns</p>\n",
              "</div>\n",
              "      <button class=\"colab-df-convert\" onclick=\"convertToInteractive('df-e958f4ac-96ed-447b-bbb4-df153d0e88ff')\"\n",
              "              title=\"Convert this dataframe to an interactive table.\"\n",
              "              style=\"display:none;\">\n",
              "        \n",
              "  <svg xmlns=\"http://www.w3.org/2000/svg\" height=\"24px\"viewBox=\"0 0 24 24\"\n",
              "       width=\"24px\">\n",
              "    <path d=\"M0 0h24v24H0V0z\" fill=\"none\"/>\n",
              "    <path d=\"M18.56 5.44l.94 2.06.94-2.06 2.06-.94-2.06-.94-.94-2.06-.94 2.06-2.06.94zm-11 1L8.5 8.5l.94-2.06 2.06-.94-2.06-.94L8.5 2.5l-.94 2.06-2.06.94zm10 10l.94 2.06.94-2.06 2.06-.94-2.06-.94-.94-2.06-.94 2.06-2.06.94z\"/><path d=\"M17.41 7.96l-1.37-1.37c-.4-.4-.92-.59-1.43-.59-.52 0-1.04.2-1.43.59L10.3 9.45l-7.72 7.72c-.78.78-.78 2.05 0 2.83L4 21.41c.39.39.9.59 1.41.59.51 0 1.02-.2 1.41-.59l7.78-7.78 2.81-2.81c.8-.78.8-2.07 0-2.86zM5.41 20L4 18.59l7.72-7.72 1.47 1.35L5.41 20z\"/>\n",
              "  </svg>\n",
              "      </button>\n",
              "      \n",
              "  <style>\n",
              "    .colab-df-container {\n",
              "      display:flex;\n",
              "      flex-wrap:wrap;\n",
              "      gap: 12px;\n",
              "    }\n",
              "\n",
              "    .colab-df-convert {\n",
              "      background-color: #E8F0FE;\n",
              "      border: none;\n",
              "      border-radius: 50%;\n",
              "      cursor: pointer;\n",
              "      display: none;\n",
              "      fill: #1967D2;\n",
              "      height: 32px;\n",
              "      padding: 0 0 0 0;\n",
              "      width: 32px;\n",
              "    }\n",
              "\n",
              "    .colab-df-convert:hover {\n",
              "      background-color: #E2EBFA;\n",
              "      box-shadow: 0px 1px 2px rgba(60, 64, 67, 0.3), 0px 1px 3px 1px rgba(60, 64, 67, 0.15);\n",
              "      fill: #174EA6;\n",
              "    }\n",
              "\n",
              "    [theme=dark] .colab-df-convert {\n",
              "      background-color: #3B4455;\n",
              "      fill: #D2E3FC;\n",
              "    }\n",
              "\n",
              "    [theme=dark] .colab-df-convert:hover {\n",
              "      background-color: #434B5C;\n",
              "      box-shadow: 0px 1px 3px 1px rgba(0, 0, 0, 0.15);\n",
              "      filter: drop-shadow(0px 1px 2px rgba(0, 0, 0, 0.3));\n",
              "      fill: #FFFFFF;\n",
              "    }\n",
              "  </style>\n",
              "\n",
              "      <script>\n",
              "        const buttonEl =\n",
              "          document.querySelector('#df-e958f4ac-96ed-447b-bbb4-df153d0e88ff button.colab-df-convert');\n",
              "        buttonEl.style.display =\n",
              "          google.colab.kernel.accessAllowed ? 'block' : 'none';\n",
              "\n",
              "        async function convertToInteractive(key) {\n",
              "          const element = document.querySelector('#df-e958f4ac-96ed-447b-bbb4-df153d0e88ff');\n",
              "          const dataTable =\n",
              "            await google.colab.kernel.invokeFunction('convertToInteractive',\n",
              "                                                     [key], {});\n",
              "          if (!dataTable) return;\n",
              "\n",
              "          const docLinkHtml = 'Like what you see? Visit the ' +\n",
              "            '<a target=\"_blank\" href=https://colab.research.google.com/notebooks/data_table.ipynb>data table notebook</a>'\n",
              "            + ' to learn more about interactive tables.';\n",
              "          element.innerHTML = '';\n",
              "          dataTable['output_type'] = 'display_data';\n",
              "          await google.colab.output.renderOutput(dataTable, element);\n",
              "          const docLink = document.createElement('div');\n",
              "          docLink.innerHTML = docLinkHtml;\n",
              "          element.appendChild(docLink);\n",
              "        }\n",
              "      </script>\n",
              "    </div>\n",
              "  </div>\n",
              "  "
            ],
            "text/plain": [
              "     Class\n",
              "5        0\n",
              "207      0\n",
              "209      0\n",
              "468      1\n",
              "289      0\n",
              "..     ...\n",
              "453      0\n",
              "325      1\n",
              "445      0\n",
              "143      0\n",
              "213      0\n",
              "\n",
              "[376 rows x 1 columns]"
            ]
          },
          "execution_count": 11,
          "metadata": {},
          "output_type": "execute_result"
        }
      ],
      "source": [
        "train_label_df = train[['Class']]\n",
        "train_label_df"
      ]
    },
    {
      "cell_type": "code",
      "execution_count": null,
      "metadata": {
        "colab": {
          "base_uri": "https://localhost:8080/"
        },
        "id": "G6B-gRbO0Du4",
        "outputId": "7a0cb107-415e-4b04-d60e-9722fd00403e"
      },
      "outputs": [
        {
          "data": {
            "text/plain": [
              "array([[  0.,  18.,   2., ...,  12.,   0.,   1.],\n",
              "       [  0., 208.,   3., ...,  11.,   0.,   1.],\n",
              "       [  0., 211.,   3., ...,  11.,   0.,   1.],\n",
              "       ...,\n",
              "       [  0., 452.,   4., ...,  12.,   0.,   1.],\n",
              "       [  0., 122.,   3., ...,  12.,   0.,   1.],\n",
              "       [  0., 215.,   3., ...,  11.,   0.,   1.]])"
            ]
          },
          "execution_count": 12,
          "metadata": {},
          "output_type": "execute_result"
        }
      ],
      "source": [
        "train_data = train_data_df.values           # 값부분만 가져오기(2차원 형태)\n",
        "train_data"
      ]
    },
    {
      "cell_type": "code",
      "execution_count": null,
      "metadata": {
        "colab": {
          "base_uri": "https://localhost:8080/"
        },
        "id": "fS2vauzu0Du4",
        "outputId": "8cc96596-5a04-41b8-dd76-0b0753495fc5"
      },
      "outputs": [
        {
          "data": {
            "text/plain": [
              "array([0, 0, 0, 1, 0, 1, 0, 0, 0, 0, 0, 0, 1, 0, 0, 0, 1, 0, 0, 0, 0, 0,\n",
              "       1, 1, 0, 0, 0, 0, 0, 1, 0, 0, 0, 0, 0, 0, 0, 0, 0, 0, 1, 1, 0, 0,\n",
              "       0, 0, 0, 0, 0, 1, 0, 0, 0, 0, 0, 0, 0, 0, 1, 0, 0, 0, 0, 0, 0, 0,\n",
              "       0, 0, 0, 0, 0, 1, 0, 0, 0, 0, 1, 0, 0, 1, 0, 0, 0, 0, 0, 0, 0, 0,\n",
              "       0, 0, 0, 0, 0, 0, 0, 0, 0, 1, 0, 1, 1, 0, 0, 0, 0, 1, 0, 0, 0, 0,\n",
              "       0, 0, 0, 0, 0, 0, 0, 0, 0, 0, 0, 0, 1, 0, 0, 0, 0, 0, 0, 0, 0, 0,\n",
              "       0, 0, 0, 0, 0, 1, 0, 0, 0, 0, 0, 0, 0, 0, 1, 0, 0, 1, 1, 0, 0, 0,\n",
              "       0, 0, 0, 1, 0, 0, 1, 0, 0, 0, 0, 0, 0, 0, 0, 0, 1, 0, 0, 0, 0, 0,\n",
              "       0, 0, 1, 0, 0, 0, 0, 0, 0, 1, 0, 0, 0, 0, 0, 0, 1, 1, 1, 1, 0, 0,\n",
              "       0, 0, 1, 0, 0, 0, 1, 0, 0, 0, 0, 0, 0, 0, 0, 0, 1, 0, 1, 0, 0, 0,\n",
              "       0, 0, 1, 0, 0, 0, 0, 0, 0, 0, 0, 0, 0, 0, 0, 0, 0, 0, 0, 0, 0, 0,\n",
              "       0, 0, 0, 0, 0, 0, 0, 0, 0, 1, 0, 1, 0, 0, 1, 0, 0, 0, 0, 0, 0, 0,\n",
              "       0, 0, 1, 0, 0, 0, 0, 0, 1, 0, 0, 0, 0, 0, 0, 0, 0, 1, 0, 0, 0, 0,\n",
              "       0, 0, 0, 0, 0, 0, 0, 0, 0, 0, 0, 0, 0, 0, 1, 0, 0, 0, 0, 0, 0, 0,\n",
              "       0, 0, 0, 0, 0, 0, 1, 0, 0, 0, 0, 0, 1, 1, 0, 0, 0, 0, 0, 0, 0, 0,\n",
              "       0, 0, 0, 1, 1, 1, 0, 0, 1, 0, 0, 0, 0, 1, 0, 0, 0, 0, 0, 0, 1, 0,\n",
              "       0, 1, 0, 0, 0, 0, 0, 0, 0, 1, 0, 0, 1, 0, 0, 1, 1, 0, 1, 0, 1, 0,\n",
              "       0, 0])"
            ]
          },
          "execution_count": 13,
          "metadata": {},
          "output_type": "execute_result"
        }
      ],
      "source": [
        "train_label = train_label_df.values.ravel() # 값부분을 1차원으로 펴주기\n",
        "train_label"
      ]
    },
    {
      "cell_type": "markdown",
      "metadata": {
        "id": "C1Ym_WGbS7Xh"
      },
      "source": []
    },
    {
      "cell_type": "markdown",
      "metadata": {
        "id": "0rjZFD-g0Du4"
      },
      "source": [
        "### 6. 테스트 데이터셋 : 학습데이터와 레이블(정답) 나누기"
      ]
    },
    {
      "cell_type": "code",
      "execution_count": null,
      "metadata": {
        "colab": {
          "base_uri": "https://localhost:8080/"
        },
        "id": "Fkq_x11k0Du4",
        "outputId": "8737039d-06c1-4807-df5c-841d09d4b234"
      },
      "outputs": [
        {
          "data": {
            "text/plain": [
              "[['A8',\n",
              "  'A1',\n",
              "  'A2',\n",
              "  'A3',\n",
              "  'A4',\n",
              "  'A5',\n",
              "  'A6',\n",
              "  'A7',\n",
              "  'A9',\n",
              "  'A10',\n",
              "  'A11',\n",
              "  'A12',\n",
              "  'A15']]"
            ]
          },
          "execution_count": 14,
          "metadata": {},
          "output_type": "execute_result"
        }
      ],
      "source": [
        "test_data_df = [['A8','A1','A2','A3','A4','A5','A6','A7','A9','A10','A11','A12','A15']]\n",
        "test_data_df"
      ]
    },
    {
      "cell_type": "code",
      "execution_count": null,
      "metadata": {
        "colab": {
          "base_uri": "https://localhost:8080/"
        },
        "id": "MK2LOQCJ0Du4",
        "outputId": "79c99414-d04f-4440-c9bc-c93c290fab88"
      },
      "outputs": [
        {
          "data": {
            "text/plain": [
              "[['Class']]"
            ]
          },
          "execution_count": 15,
          "metadata": {},
          "output_type": "execute_result"
        }
      ],
      "source": [
        "test_label_df = [['Class']]\n",
        "test_label_df"
      ]
    },
    {
      "cell_type": "code",
      "execution_count": null,
      "metadata": {
        "colab": {
          "base_uri": "https://localhost:8080/"
        },
        "id": "OncFEKrT0Du4",
        "outputId": "53e0a42c-9693-4b78-a8d7-4cebcf2e9ed3"
      },
      "outputs": [
        {
          "data": {
            "text/plain": [
              "array([[  0.,  18.,   2., ...,  12.,   0.,   1.],\n",
              "       [  0., 208.,   3., ...,  11.,   0.,   1.],\n",
              "       [  0., 211.,   3., ...,  11.,   0.,   1.],\n",
              "       ...,\n",
              "       [  0., 452.,   4., ...,  12.,   0.,   1.],\n",
              "       [  0., 122.,   3., ...,  12.,   0.,   1.],\n",
              "       [  0., 215.,   3., ...,  11.,   0.,   1.]])"
            ]
          },
          "execution_count": 16,
          "metadata": {},
          "output_type": "execute_result"
        }
      ],
      "source": [
        "# 값부분만 가져오기(2차원 형태)\n",
        "test_data = train_data_df.values     \n",
        "test_data"
      ]
    },
    {
      "cell_type": "code",
      "execution_count": null,
      "metadata": {
        "colab": {
          "base_uri": "https://localhost:8080/"
        },
        "id": "p0BW1M0B0Du5",
        "outputId": "f47147b5-eab5-4b80-d5c6-082c3169a291"
      },
      "outputs": [
        {
          "data": {
            "text/plain": [
              "array([0, 0, 0, 1, 0, 1, 0, 0, 0, 0, 0, 0, 1, 0, 0, 0, 1, 0, 0, 0, 0, 0,\n",
              "       1, 1, 0, 0, 0, 0, 0, 1, 0, 0, 0, 0, 0, 0, 0, 0, 0, 0, 1, 1, 0, 0,\n",
              "       0, 0, 0, 0, 0, 1, 0, 0, 0, 0, 0, 0, 0, 0, 1, 0, 0, 0, 0, 0, 0, 0,\n",
              "       0, 0, 0, 0, 0, 1, 0, 0, 0, 0, 1, 0, 0, 1, 0, 0, 0, 0, 0, 0, 0, 0,\n",
              "       0, 0, 0, 0, 0, 0, 0, 0, 0, 1, 0, 1, 1, 0, 0, 0, 0, 1, 0, 0, 0, 0,\n",
              "       0, 0, 0, 0, 0, 0, 0, 0, 0, 0, 0, 0, 1, 0, 0, 0, 0, 0, 0, 0, 0, 0,\n",
              "       0, 0, 0, 0, 0, 1, 0, 0, 0, 0, 0, 0, 0, 0, 1, 0, 0, 1, 1, 0, 0, 0,\n",
              "       0, 0, 0, 1, 0, 0, 1, 0, 0, 0, 0, 0, 0, 0, 0, 0, 1, 0, 0, 0, 0, 0,\n",
              "       0, 0, 1, 0, 0, 0, 0, 0, 0, 1, 0, 0, 0, 0, 0, 0, 1, 1, 1, 1, 0, 0,\n",
              "       0, 0, 1, 0, 0, 0, 1, 0, 0, 0, 0, 0, 0, 0, 0, 0, 1, 0, 1, 0, 0, 0,\n",
              "       0, 0, 1, 0, 0, 0, 0, 0, 0, 0, 0, 0, 0, 0, 0, 0, 0, 0, 0, 0, 0, 0,\n",
              "       0, 0, 0, 0, 0, 0, 0, 0, 0, 1, 0, 1, 0, 0, 1, 0, 0, 0, 0, 0, 0, 0,\n",
              "       0, 0, 1, 0, 0, 0, 0, 0, 1, 0, 0, 0, 0, 0, 0, 0, 0, 1, 0, 0, 0, 0,\n",
              "       0, 0, 0, 0, 0, 0, 0, 0, 0, 0, 0, 0, 0, 0, 1, 0, 0, 0, 0, 0, 0, 0,\n",
              "       0, 0, 0, 0, 0, 0, 1, 0, 0, 0, 0, 0, 1, 1, 0, 0, 0, 0, 0, 0, 0, 0,\n",
              "       0, 0, 0, 1, 1, 1, 0, 0, 1, 0, 0, 0, 0, 1, 0, 0, 0, 0, 0, 0, 1, 0,\n",
              "       0, 1, 0, 0, 0, 0, 0, 0, 0, 1, 0, 0, 1, 0, 0, 1, 1, 0, 1, 0, 1, 0,\n",
              "       0, 0])"
            ]
          },
          "execution_count": 17,
          "metadata": {},
          "output_type": "execute_result"
        }
      ],
      "source": [
        "# 값부분을 1차원으로 펴주기\n",
        "test_label = train_label_df.values.ravel() \n",
        "test_label"
      ]
    },
    {
      "cell_type": "markdown",
      "metadata": {
        "id": "f2D_puBK0Du5"
      },
      "source": [
        "### 7. SVM 모델 학습하기"
      ]
    },
    {
      "cell_type": "code",
      "execution_count": null,
      "metadata": {
        "colab": {
          "base_uri": "https://localhost:8080/"
        },
        "id": "0odPZq5q0Du5",
        "outputId": "1fd13613-c8f7-441e-a09b-8f7b5ed28b9d",
        "scrolled": true
      },
      "outputs": [
        {
          "data": {
            "text/plain": [
              "SVC(C=10, gamma=1)"
            ]
          },
          "execution_count": 18,
          "metadata": {},
          "output_type": "execute_result"
        }
      ],
      "source": [
        "#svm 객체 생성\n",
        "clf = svm.SVC(C = 10, gamma = 1)    \n",
        "#svm 모델로 학습데이터로 학습하기 fit()\n",
        "clf.fit(train_data, train_label)\n"
      ]
    },
    {
      "cell_type": "markdown",
      "metadata": {
        "id": "glYtdRjG0Du5"
      },
      "source": [
        "### 8. 테스트 데이터로 예측하기"
      ]
    },
    {
      "cell_type": "code",
      "execution_count": null,
      "metadata": {
        "colab": {
          "base_uri": "https://localhost:8080/"
        },
        "id": "nPUJRoyC0Du5",
        "outputId": "996d163b-abe8-4504-978f-1ef13665d169",
        "scrolled": true
      },
      "outputs": [
        {
          "data": {
            "text/plain": [
              "array([0, 0, 0, 1, 0, 1, 0, 0, 0, 0, 0, 0, 1, 0, 0, 0, 1, 0, 0, 0, 0, 0,\n",
              "       1, 1, 0, 0, 0, 0, 0, 1, 0, 0, 0, 0, 0, 0, 0, 0, 0, 0, 1, 1, 0, 0,\n",
              "       0, 0, 0, 0, 0, 1, 0, 0, 0, 0, 0, 0, 0, 0, 1, 0, 0, 0, 0, 0, 0, 0,\n",
              "       0, 0, 0, 0, 0, 1, 0, 0, 0, 0, 1, 0, 0, 1, 0, 0, 0, 0, 0, 0, 0, 0,\n",
              "       0, 0, 0, 0, 0, 0, 0, 0, 0, 1, 0, 1, 1, 0, 0, 0, 0, 1, 0, 0, 0, 0,\n",
              "       0, 0, 0, 0, 0, 0, 0, 0, 0, 0, 0, 0, 1, 0, 0, 0, 0, 0, 0, 0, 0, 0,\n",
              "       0, 0, 0, 0, 0, 1, 0, 0, 0, 0, 0, 0, 0, 0, 1, 0, 0, 1, 1, 0, 0, 0,\n",
              "       0, 0, 0, 1, 0, 0, 1, 0, 0, 0, 0, 0, 0, 0, 0, 0, 1, 0, 0, 0, 0, 0,\n",
              "       0, 0, 1, 0, 0, 0, 0, 0, 0, 1, 0, 0, 0, 0, 0, 0, 1, 1, 1, 1, 0, 0,\n",
              "       0, 0, 1, 0, 0, 0, 1, 0, 0, 0, 0, 0, 0, 0, 0, 0, 1, 0, 1, 0, 0, 0,\n",
              "       0, 0, 1, 0, 0, 0, 0, 0, 0, 0, 0, 0, 0, 0, 0, 0, 0, 0, 0, 0, 0, 0,\n",
              "       0, 0, 0, 0, 0, 0, 0, 0, 0, 1, 0, 1, 0, 0, 1, 0, 0, 0, 0, 0, 0, 0,\n",
              "       0, 0, 1, 0, 0, 0, 0, 0, 1, 0, 0, 0, 0, 0, 0, 0, 0, 1, 0, 0, 0, 0,\n",
              "       0, 0, 0, 0, 0, 0, 0, 0, 0, 0, 0, 0, 0, 0, 1, 0, 0, 0, 0, 0, 0, 0,\n",
              "       0, 0, 0, 0, 0, 0, 1, 0, 0, 0, 0, 0, 1, 1, 0, 0, 0, 0, 0, 0, 0, 0,\n",
              "       0, 0, 0, 1, 1, 1, 0, 0, 1, 0, 0, 0, 0, 1, 0, 0, 0, 0, 0, 0, 1, 0,\n",
              "       0, 1, 0, 0, 0, 0, 0, 0, 0, 1, 0, 0, 1, 0, 0, 1, 1, 0, 1, 0, 1, 0,\n",
              "       0, 0])"
            ]
          },
          "execution_count": 19,
          "metadata": {},
          "output_type": "execute_result"
        }
      ],
      "source": [
        "#위에서 만든 clf(svm) 모델로 예측하기\n",
        "pred_svm = clf.predict(test_data)\n",
        "pred_svm  #svm이 예측한 생존 여부 값"
      ]
    },
    {
      "cell_type": "markdown",
      "metadata": {
        "id": "UiF3b72N0Du5"
      },
      "source": [
        "### 9. 모델 예측 정확도 확인"
      ]
    },
    {
      "cell_type": "code",
      "execution_count": null,
      "metadata": {
        "colab": {
          "base_uri": "https://localhost:8080/"
        },
        "id": "P8P7Y8iG0Du5",
        "outputId": "c3479104-8252-4b7e-8636-604e6a293f3f"
      },
      "outputs": [
        {
          "data": {
            "text/plain": [
              "array([0, 0, 0, 1, 0, 1, 0, 0, 0, 0, 0, 0, 1, 0, 0, 0, 1, 0, 0, 0, 0, 0,\n",
              "       1, 1, 0, 0, 0, 0, 0, 1, 0, 0, 0, 0, 0, 0, 0, 0, 0, 0, 1, 1, 0, 0,\n",
              "       0, 0, 0, 0, 0, 1, 0, 0, 0, 0, 0, 0, 0, 0, 1, 0, 0, 0, 0, 0, 0, 0,\n",
              "       0, 0, 0, 0, 0, 1, 0, 0, 0, 0, 1, 0, 0, 1, 0, 0, 0, 0, 0, 0, 0, 0,\n",
              "       0, 0, 0, 0, 0, 0, 0, 0, 0, 1, 0, 1, 1, 0, 0, 0, 0, 1, 0, 0, 0, 0,\n",
              "       0, 0, 0, 0, 0, 0, 0, 0, 0, 0, 0, 0, 1, 0, 0, 0, 0, 0, 0, 0, 0, 0,\n",
              "       0, 0, 0, 0, 0, 1, 0, 0, 0, 0, 0, 0, 0, 0, 1, 0, 0, 1, 1, 0, 0, 0,\n",
              "       0, 0, 0, 1, 0, 0, 1, 0, 0, 0, 0, 0, 0, 0, 0, 0, 1, 0, 0, 0, 0, 0,\n",
              "       0, 0, 1, 0, 0, 0, 0, 0, 0, 1, 0, 0, 0, 0, 0, 0, 1, 1, 1, 1, 0, 0,\n",
              "       0, 0, 1, 0, 0, 0, 1, 0, 0, 0, 0, 0, 0, 0, 0, 0, 1, 0, 1, 0, 0, 0,\n",
              "       0, 0, 1, 0, 0, 0, 0, 0, 0, 0, 0, 0, 0, 0, 0, 0, 0, 0, 0, 0, 0, 0,\n",
              "       0, 0, 0, 0, 0, 0, 0, 0, 0, 1, 0, 1, 0, 0, 1, 0, 0, 0, 0, 0, 0, 0,\n",
              "       0, 0, 1, 0, 0, 0, 0, 0, 1, 0, 0, 0, 0, 0, 0, 0, 0, 1, 0, 0, 0, 0,\n",
              "       0, 0, 0, 0, 0, 0, 0, 0, 0, 0, 0, 0, 0, 0, 1, 0, 0, 0, 0, 0, 0, 0,\n",
              "       0, 0, 0, 0, 0, 0, 1, 0, 0, 0, 0, 0, 1, 1, 0, 0, 0, 0, 0, 0, 0, 0,\n",
              "       0, 0, 0, 1, 1, 1, 0, 0, 1, 0, 0, 0, 0, 1, 0, 0, 0, 0, 0, 0, 1, 0,\n",
              "       0, 1, 0, 0, 0, 0, 0, 0, 0, 1, 0, 0, 1, 0, 0, 1, 1, 0, 1, 0, 1, 0,\n",
              "       0, 0])"
            ]
          },
          "execution_count": 20,
          "metadata": {},
          "output_type": "execute_result"
        }
      ],
      "source": [
        "test_label #테스트 데이터에서 정답(생존 여부)\n"
      ]
    },
    {
      "cell_type": "code",
      "execution_count": null,
      "metadata": {
        "colab": {
          "base_uri": "https://localhost:8080/"
        },
        "id": "NNQEV_ZL0Du5",
        "outputId": "4ecbcf4f-5a87-431b-e2f1-45786510fb1a"
      },
      "outputs": [
        {
          "name": "stdout",
          "output_type": "stream",
          "text": [
            "accuracy :  1.0\n"
          ]
        }
      ],
      "source": [
        "ac_score = metrics.accuracy_score(test_label, pred_svm)\n",
        "print('accuracy : ', ac_score)"
      ]
    },
    {
      "cell_type": "code",
      "execution_count": null,
      "metadata": {
        "colab": {
          "base_uri": "https://localhost:8080/",
          "height": 424
        },
        "id": "s0VKzcJD0Du5",
        "outputId": "ca92362e-b540-4bd6-ed9d-00d81896feb2"
      },
      "outputs": [
        {
          "data": {
            "text/html": [
              "\n",
              "  <div id=\"df-8637b286-45c3-4add-a3b1-2e3cbdfa851d\">\n",
              "    <div class=\"colab-df-container\">\n",
              "      <div>\n",
              "<style scoped>\n",
              "    .dataframe tbody tr th:only-of-type {\n",
              "        vertical-align: middle;\n",
              "    }\n",
              "\n",
              "    .dataframe tbody tr th {\n",
              "        vertical-align: top;\n",
              "    }\n",
              "\n",
              "    .dataframe thead th {\n",
              "        text-align: right;\n",
              "    }\n",
              "</style>\n",
              "<table border=\"1\" class=\"dataframe\">\n",
              "  <thead>\n",
              "    <tr style=\"text-align: right;\">\n",
              "      <th></th>\n",
              "      <th>prediction_svm</th>\n",
              "      <th>ground_truth</th>\n",
              "    </tr>\n",
              "  </thead>\n",
              "  <tbody>\n",
              "    <tr>\n",
              "      <th>0</th>\n",
              "      <td>0</td>\n",
              "      <td>0</td>\n",
              "    </tr>\n",
              "    <tr>\n",
              "      <th>1</th>\n",
              "      <td>0</td>\n",
              "      <td>0</td>\n",
              "    </tr>\n",
              "    <tr>\n",
              "      <th>2</th>\n",
              "      <td>0</td>\n",
              "      <td>0</td>\n",
              "    </tr>\n",
              "    <tr>\n",
              "      <th>3</th>\n",
              "      <td>1</td>\n",
              "      <td>1</td>\n",
              "    </tr>\n",
              "    <tr>\n",
              "      <th>4</th>\n",
              "      <td>0</td>\n",
              "      <td>0</td>\n",
              "    </tr>\n",
              "    <tr>\n",
              "      <th>...</th>\n",
              "      <td>...</td>\n",
              "      <td>...</td>\n",
              "    </tr>\n",
              "    <tr>\n",
              "      <th>371</th>\n",
              "      <td>0</td>\n",
              "      <td>0</td>\n",
              "    </tr>\n",
              "    <tr>\n",
              "      <th>372</th>\n",
              "      <td>1</td>\n",
              "      <td>1</td>\n",
              "    </tr>\n",
              "    <tr>\n",
              "      <th>373</th>\n",
              "      <td>0</td>\n",
              "      <td>0</td>\n",
              "    </tr>\n",
              "    <tr>\n",
              "      <th>374</th>\n",
              "      <td>0</td>\n",
              "      <td>0</td>\n",
              "    </tr>\n",
              "    <tr>\n",
              "      <th>375</th>\n",
              "      <td>0</td>\n",
              "      <td>0</td>\n",
              "    </tr>\n",
              "  </tbody>\n",
              "</table>\n",
              "<p>376 rows × 2 columns</p>\n",
              "</div>\n",
              "      <button class=\"colab-df-convert\" onclick=\"convertToInteractive('df-8637b286-45c3-4add-a3b1-2e3cbdfa851d')\"\n",
              "              title=\"Convert this dataframe to an interactive table.\"\n",
              "              style=\"display:none;\">\n",
              "        \n",
              "  <svg xmlns=\"http://www.w3.org/2000/svg\" height=\"24px\"viewBox=\"0 0 24 24\"\n",
              "       width=\"24px\">\n",
              "    <path d=\"M0 0h24v24H0V0z\" fill=\"none\"/>\n",
              "    <path d=\"M18.56 5.44l.94 2.06.94-2.06 2.06-.94-2.06-.94-.94-2.06-.94 2.06-2.06.94zm-11 1L8.5 8.5l.94-2.06 2.06-.94-2.06-.94L8.5 2.5l-.94 2.06-2.06.94zm10 10l.94 2.06.94-2.06 2.06-.94-2.06-.94-.94-2.06-.94 2.06-2.06.94z\"/><path d=\"M17.41 7.96l-1.37-1.37c-.4-.4-.92-.59-1.43-.59-.52 0-1.04.2-1.43.59L10.3 9.45l-7.72 7.72c-.78.78-.78 2.05 0 2.83L4 21.41c.39.39.9.59 1.41.59.51 0 1.02-.2 1.41-.59l7.78-7.78 2.81-2.81c.8-.78.8-2.07 0-2.86zM5.41 20L4 18.59l7.72-7.72 1.47 1.35L5.41 20z\"/>\n",
              "  </svg>\n",
              "      </button>\n",
              "      \n",
              "  <style>\n",
              "    .colab-df-container {\n",
              "      display:flex;\n",
              "      flex-wrap:wrap;\n",
              "      gap: 12px;\n",
              "    }\n",
              "\n",
              "    .colab-df-convert {\n",
              "      background-color: #E8F0FE;\n",
              "      border: none;\n",
              "      border-radius: 50%;\n",
              "      cursor: pointer;\n",
              "      display: none;\n",
              "      fill: #1967D2;\n",
              "      height: 32px;\n",
              "      padding: 0 0 0 0;\n",
              "      width: 32px;\n",
              "    }\n",
              "\n",
              "    .colab-df-convert:hover {\n",
              "      background-color: #E2EBFA;\n",
              "      box-shadow: 0px 1px 2px rgba(60, 64, 67, 0.3), 0px 1px 3px 1px rgba(60, 64, 67, 0.15);\n",
              "      fill: #174EA6;\n",
              "    }\n",
              "\n",
              "    [theme=dark] .colab-df-convert {\n",
              "      background-color: #3B4455;\n",
              "      fill: #D2E3FC;\n",
              "    }\n",
              "\n",
              "    [theme=dark] .colab-df-convert:hover {\n",
              "      background-color: #434B5C;\n",
              "      box-shadow: 0px 1px 3px 1px rgba(0, 0, 0, 0.15);\n",
              "      filter: drop-shadow(0px 1px 2px rgba(0, 0, 0, 0.3));\n",
              "      fill: #FFFFFF;\n",
              "    }\n",
              "  </style>\n",
              "\n",
              "      <script>\n",
              "        const buttonEl =\n",
              "          document.querySelector('#df-8637b286-45c3-4add-a3b1-2e3cbdfa851d button.colab-df-convert');\n",
              "        buttonEl.style.display =\n",
              "          google.colab.kernel.accessAllowed ? 'block' : 'none';\n",
              "\n",
              "        async function convertToInteractive(key) {\n",
              "          const element = document.querySelector('#df-8637b286-45c3-4add-a3b1-2e3cbdfa851d');\n",
              "          const dataTable =\n",
              "            await google.colab.kernel.invokeFunction('convertToInteractive',\n",
              "                                                     [key], {});\n",
              "          if (!dataTable) return;\n",
              "\n",
              "          const docLinkHtml = 'Like what you see? Visit the ' +\n",
              "            '<a target=\"_blank\" href=https://colab.research.google.com/notebooks/data_table.ipynb>data table notebook</a>'\n",
              "            + ' to learn more about interactive tables.';\n",
              "          element.innerHTML = '';\n",
              "          dataTable['output_type'] = 'display_data';\n",
              "          await google.colab.output.renderOutput(dataTable, element);\n",
              "          const docLink = document.createElement('div');\n",
              "          docLink.innerHTML = docLinkHtml;\n",
              "          element.appendChild(docLink);\n",
              "        }\n",
              "      </script>\n",
              "    </div>\n",
              "  </div>\n",
              "  "
            ],
            "text/plain": [
              "     prediction_svm  ground_truth\n",
              "0                 0             0\n",
              "1                 0             0\n",
              "2                 0             0\n",
              "3                 1             1\n",
              "4                 0             0\n",
              "..              ...           ...\n",
              "371               0             0\n",
              "372               1             1\n",
              "373               0             0\n",
              "374               0             0\n",
              "375               0             0\n",
              "\n",
              "[376 rows x 2 columns]"
            ]
          },
          "execution_count": 22,
          "metadata": {},
          "output_type": "execute_result"
        }
      ],
      "source": [
        "comparison = pd.DataFrame({'prediction_svm':pred_svm, 'ground_truth':test_label})\n",
        "comparison"
      ]
    },
    {
      "cell_type": "markdown",
      "metadata": {
        "id": "deHtLsLv0Du6"
      },
      "source": [
        "### * 주의  !!!! : 소스코드 중간 중간에 변경사항이 있다면 \n",
        "### 맨 위에서부터 차례 차례 Shift + Enter를 모두 해주거나, \n",
        "### 상단 Kernel -> Restart & Run All로 전체적으로 다시 한번 실행해야 적용됨\n",
        "### 고친 부분만 Shift + Enter 한다고 전체 소스코드에 반영되지 않음"
      ]
    },
    {
      "cell_type": "markdown",
      "metadata": {
        "id": "Q7wCsGsl0Du6"
      },
      "source": [
        "## 1. 데이터를 증가시켰을 때 정확도는 얼마나 차이가 나는가?"
      ]
    },
    {
      "cell_type": "markdown",
      "metadata": {
        "id": "680c4vbh0Du6"
      },
      "source": [
        "##   200개일때 80, 전체에서 85%까지 증가한다."
      ]
    },
    {
      "cell_type": "markdown",
      "metadata": {
        "id": "cXHr0KhD0Du6"
      },
      "source": [
        "## 2. 학습 피쳐(특징데이터, 변수)를 변경시켜 수행할 경우 정확도는 어떤 차이가 나는가?"
      ]
    },
    {
      "cell_type": "markdown",
      "metadata": {
        "id": "rtIcCETH0Du6"
      },
      "source": [
        "##  A8,A1,A2,A15일 때 81.5%  A1, A2, A3, A4일 때는 정확도가 81.9%였다."
      ]
    },
    {
      "cell_type": "markdown",
      "metadata": {
        "id": "Up0y9XCp0Du6"
      },
      "source": [
        "## 3. 비용(C)와 감마(gamma) 값을 변경하여 수행해보고 어떤 값이 가장 좋은 정확도를 갖는지 알아보자. \n",
        "### 비용이 0.1 , 1, 10 인 경우, 감마 값이 0.1, 1, 10 인 경우의 여러 조합으로 수행해 보자"
      ]
    },
    {
      "cell_type": "markdown",
      "metadata": {
        "id": "Go5ReJH3WbON"
      },
      "source": []
    },
    {
      "cell_type": "markdown",
      "metadata": {
        "id": "oUmgHbwp0Du6"
      },
      "source": [
        "## A. (C, gamma) 가 (10, 10) 일 떄 91.5%의 정확도로 가장 높았다."
      ]
    },
    {
      "cell_type": "markdown",
      "metadata": {
        "id": "E4UruP2o0Du6"
      },
      "source": [
        "## 4. 예측 정확도가 가장 높은 학습 모델의 데이터 수, 피쳐(변수) 및 파라메터의 값은 무엇인가?"
      ]
    },
    {
      "cell_type": "markdown",
      "metadata": {
        "id": "jV07U2az0Du6"
      },
      "source": [
        "## A."
      ]
    },
    {
      "cell_type": "code",
      "execution_count": null,
      "metadata": {
        "colab": {
          "base_uri": "https://localhost:8080/",
          "height": 172
        },
        "id": "ZQdAS7PQ0Du6",
        "outputId": "6e610734-44a2-44ce-a37f-85a6c4ed58f9"
      },
      "outputs": [
        {
          "ename": "NameError",
          "evalue": "ignored",
          "output_type": "error",
          "traceback": [
            "\u001b[0;31m---------------------------------------------------------------------------\u001b[0m",
            "\u001b[0;31mNameError\u001b[0m                                 Traceback (most recent call last)",
            "\u001b[0;32m<ipython-input-23-2b66fd261ee5>\u001b[0m in \u001b[0;36m<module>\u001b[0;34m\u001b[0m\n\u001b[0;32m----> 1\u001b[0;31m \u001b[0mc\u001b[0m\u001b[0;34m\u001b[0m\u001b[0;34m\u001b[0m\u001b[0m\n\u001b[0m",
            "\u001b[0;31mNameError\u001b[0m: name 'c' is not defined"
          ]
        }
      ],
      "source": [
        "데이터 470개, 피쳐가 A8, A1,A2,A15이고 파라메터가 10,10일때"
      ]
    }
  ],
  "metadata": {
    "colab": {
      "collapsed_sections": [],
      "provenance": []
    },
    "kernelspec": {
      "display_name": "Python 3",
      "language": "python",
      "name": "python3"
    },
    "language_info": {
      "codemirror_mode": {
        "name": "ipython",
        "version": 3
      },
      "file_extension": ".py",
      "mimetype": "text/x-python",
      "name": "python",
      "nbconvert_exporter": "python",
      "pygments_lexer": "ipython3",
      "version": "3.8.8"
    }
  },
  "nbformat": 4,
  "nbformat_minor": 0
}
